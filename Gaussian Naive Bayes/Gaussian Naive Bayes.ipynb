{
 "cells": [
  {
   "cell_type": "code",
   "execution_count": 376,
   "metadata": {},
   "outputs": [],
   "source": [
    "dictionary = {'data': [[1, 2, 3], [1, 2, 3, 4], [1, 2, 4], [1, 2, 3, 4], [1, 2, 3, 4], [1, 2, 3, 4]],\n",
    "             'classes': ['Banana', 'Pera', 'Bacana']}\n",
    "\n",
    "xs = [1, 2]\n",
    "\n",
    "\n",
    "import math"
   ]
  },
  {
   "cell_type": "code",
   "execution_count": 389,
   "metadata": {},
   "outputs": [],
   "source": [
    "def create_gaussian(data, classes, x):\n",
    "    finals = []\n",
    "    if (len(classes) == 0):\n",
    "        raise Exception('Você não estabeleceu nenhuma classe!')\n",
    "        \n",
    "    if (len(classes) == 1):\n",
    "        raise Exception('Você precisa de mais classes para classificar um ponto!')\n",
    "        \n",
    "    if (len(data) % len(classes) != 0):\n",
    "        raise Exception('len(data) não é divisível por len(classes)')\n",
    "        \n",
    "    medias = []\n",
    "    soma = 0\n",
    "    desvio_padrao = []\n",
    "    dados_formatados = []\n",
    "    formatados = []\n",
    "    N = int(len(data) / len(classes))\n",
    "    \n",
    "    inicio = 0\n",
    "    selecionador = N\n",
    "    \n",
    "    print(len(data) / N)\n",
    "    for values in range(int(len(data) / N)):\n",
    "        formatados = []\n",
    "        \n",
    "        for values2 in range(inicio, selecionador):\n",
    "            formatados.append(data[values2])\n",
    "            \n",
    "       \n",
    "        \n",
    "        selecionador = selecionador + N\n",
    "        inicio = inicio + N\n",
    "        \n",
    "    \n",
    "    \n",
    "    \n",
    "        soma = 0\n",
    "        medias = []\n",
    "        desvio_padrao = []\n",
    "        variance = 0\n",
    "\n",
    "        for values in range(len(formatados)):\n",
    "\n",
    "            soma = 0\n",
    "\n",
    "            for values2 in formatados[values]:\n",
    "\n",
    "                soma = soma + values2\n",
    "                media = soma / len(formatados[values])\n",
    "\n",
    "            medias.append(media)\n",
    "       \n",
    "        \n",
    "        \n",
    "\n",
    "        variance = 0\n",
    "        for values in range(len(formatados)):\n",
    "            variance = 0\n",
    "\n",
    "            for values2 in formatados[values]:\n",
    "\n",
    "                variance = pow((values2 - medias[values]), 2) + variance\n",
    "\n",
    "            desvio_padrao.append(math.sqrt(variance / len(formatados[values])))\n",
    "        \n",
    "\n",
    "\n",
    "        for values in range(len(medias)):\n",
    "\n",
    "            expression = 0\n",
    "            powered = 0\n",
    "            final_result = 0\n",
    "            expression = -1/2 * pow(((x - medias[values]) / desvio_padrao[values]), 2)\n",
    "            powered = pow(math.e, expression)\n",
    "            final_result = (1 / (math.sqrt(2 * math.pi * pow(desvio_padrao[values], 2))) * powered)\n",
    "            finals.append(final_result)\n",
    "        \n",
    "    inicio = 0\n",
    "    selecionador = N\n",
    "    mult = 1\n",
    "    mults = []\n",
    "    \n",
    "    for values in range(int(len(finals) / N)):\n",
    "        \n",
    "        mult = 1\n",
    "        for values2 in range(inicio, selecionador):\n",
    "            mult = finals[values2] * mult\n",
    "        mults.append(mult)\n",
    "        \n",
    "        selecionador = selecionador + N\n",
    "        inicio = inicio + N\n",
    "    \n",
    "    index = 0\n",
    "    maximo = mults[0]\n",
    "    for values in range(len(mults)):\n",
    "        if (mults[values] > maximo):\n",
    "            maximo = mults[values]\n",
    "            index = values\n",
    "    \n",
    "    return classes[index]\n",
    "\n",
    "    \n",
    "    \n",
    "    "
   ]
  },
  {
   "cell_type": "code",
   "execution_count": 390,
   "metadata": {
    "scrolled": true
   },
   "outputs": [
    {
     "name": "stdout",
     "output_type": "stream",
     "text": [
      "3.0\n",
      "[0.1445375002189293, 0.11312138993652776, 0.12732395447351624]\n"
     ]
    },
    {
     "data": {
      "text/plain": [
       "'Banana'"
      ]
     },
     "execution_count": 390,
     "metadata": {},
     "output_type": "execute_result"
    }
   ],
   "source": [
    "create_gaussian(dictionary['data'], dictionary['classes'], 2.5)"
   ]
  },
  {
   "cell_type": "code",
   "execution_count": 212,
   "metadata": {},
   "outputs": [],
   "source": []
  },
  {
   "cell_type": "code",
   "execution_count": null,
   "metadata": {},
   "outputs": [],
   "source": []
  },
  {
   "cell_type": "code",
   "execution_count": null,
   "metadata": {},
   "outputs": [],
   "source": []
  }
 ],
 "metadata": {
  "kernelspec": {
   "display_name": "Python 3",
   "language": "python",
   "name": "python3"
  },
  "language_info": {
   "codemirror_mode": {
    "name": "ipython",
    "version": 3
   },
   "file_extension": ".py",
   "mimetype": "text/x-python",
   "name": "python",
   "nbconvert_exporter": "python",
   "pygments_lexer": "ipython3",
   "version": "3.7.6"
  }
 },
 "nbformat": 4,
 "nbformat_minor": 4
}
