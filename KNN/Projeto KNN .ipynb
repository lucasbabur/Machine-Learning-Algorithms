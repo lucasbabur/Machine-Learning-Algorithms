{
 "cells": [
  {
   "cell_type": "code",
   "execution_count": 41,
   "metadata": {},
   "outputs": [
    {
     "name": "stdout",
     "output_type": "stream",
     "text": [
      "30\n",
      "10\n"
     ]
    }
   ],
   "source": [
    "data = {'params': [1, 2, 3, 4, 5, 6, 1, 2, 3, 4, 5, 6, 7, 8, 9, 10, 11, 12, 13, 14, 15, 16, 17, 18, 19, 20, 21, 22, 23, 24],\n",
    "       'classe': ['pão', 'manteiga', 'Geleia', 'manteiga', 'manteiga', 'geleia', 'pão', 'pão', 'pão', 'geleia']}\n",
    "print(len(data['params']))\n",
    "print(len(data['classe']))\n",
    "import math\n",
    "\n",
    "new_point = [1, 2, 3]\n"
   ]
  },
  {
   "cell_type": "code",
   "execution_count": 42,
   "metadata": {},
   "outputs": [],
   "source": [
    "\n",
    "def KNN (data, K, new_point):\n",
    "    euclidian = []\n",
    "    \n",
    "    for values in range(len(data['classe'])):\n",
    "        euclidian.append(float(0))\n",
    "    if (len(data['params']) % len(data['classe']) == 0):\n",
    "        \n",
    "        \n",
    "        \n",
    "        N = int(len(data['params']) / len(data['classe']))\n",
    "        range_inicial = 0\n",
    "        \n",
    "        if (len(new_point) != N):\n",
    "            print('Erro! Seu New_Point está errado!')\n",
    "        \n",
    "        for values in range(1, N + 1):\n",
    "            \n",
    "            primeiro = 0\n",
    "            for values2 in range(int(range_inicial), int(len(data['params']) / N * values)):\n",
    "                euclidian[primeiro] = pow((new_point[values - 1] - data['params'][values2]), 2) + euclidian[primeiro]\n",
    "                primeiro += 1\n",
    "                range_inicial = values2 + 1\n",
    "                \n",
    "\n",
    "        for values in range(len(euclidian)):\n",
    "            for values2 in range(len(euclidian)):\n",
    "                if(euclidian[values] < euclidian[values2] and values > values2):\n",
    "                    auxiliar = 0\n",
    "                    \n",
    "                    auxiliar = euclidian[values]\n",
    "                    euclidian[values] = euclidian[values2]\n",
    "                    euclidian[values2] = auxiliar\n",
    "                    \n",
    "                    auxiliar = data['classe'][values]\n",
    "                    data['classe'][values] = data['classe'][values2]\n",
    "                    data['classe'][values2] = auxiliar\n",
    "                    \n",
    "        arr = []\n",
    "        \n",
    "        for values in range(K):\n",
    "            arr.append(data['classe'][values])\n",
    "\n",
    "        \n",
    "        counts = []\n",
    "        count = 0\n",
    "        for values in range(K):\n",
    "            counts.append(0)\n",
    "        \n",
    "        for values in range(len(arr)):\n",
    "            for values2 in range(len(arr)):\n",
    "                if (arr[values] == arr[values2]):\n",
    "                    counts[values] = counts[values] + 1\n",
    "        \n",
    "        maior = 0\n",
    "        index = 0\n",
    "        for values in range(len(counts)):\n",
    "            if (counts[values] > maior):\n",
    "                maior = counts[values]\n",
    "                index = values\n",
    "        \n",
    "        return arr[index]\n",
    "        \n",
    "    else:\n",
    "        print('------------- ERRO ------------')\n",
    "        print('Seus dados estão errados, corrija-os!')\n",
    "        \n",
    "\n",
    "        "
   ]
  },
  {
   "cell_type": "code",
   "execution_count": 43,
   "metadata": {
    "scrolled": true
   },
   "outputs": [
    {
     "data": {
      "text/plain": [
       "'manteiga'"
      ]
     },
     "execution_count": 43,
     "metadata": {},
     "output_type": "execute_result"
    }
   ],
   "source": [
    "KNN(data, 5, new_point)"
   ]
  },
  {
   "cell_type": "code",
   "execution_count": null,
   "metadata": {},
   "outputs": [],
   "source": []
  },
  {
   "cell_type": "code",
   "execution_count": null,
   "metadata": {},
   "outputs": [],
   "source": []
  }
 ],
 "metadata": {
  "kernelspec": {
   "display_name": "Python 3",
   "language": "python",
   "name": "python3"
  },
  "language_info": {
   "codemirror_mode": {
    "name": "ipython",
    "version": 3
   },
   "file_extension": ".py",
   "mimetype": "text/x-python",
   "name": "python",
   "nbconvert_exporter": "python",
   "pygments_lexer": "ipython3",
   "version": "3.7.6"
  }
 },
 "nbformat": 4,
 "nbformat_minor": 4
}
