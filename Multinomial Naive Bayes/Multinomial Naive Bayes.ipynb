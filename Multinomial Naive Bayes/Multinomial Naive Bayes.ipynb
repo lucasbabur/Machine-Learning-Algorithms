{
 "cells": [
  {
   "cell_type": "code",
   "execution_count": 302,
   "metadata": {},
   "outputs": [],
   "source": [
    "data = [[1, 1, 2], [2, 2], [3]]\n",
    "\n",
    "classes = ['Banana', 'Tejedor', 'Incrível']\n",
    "\n",
    "new_point = [2, 3, 1, 1]\n",
    "\n"
   ]
  },
  {
   "cell_type": "code",
   "execution_count": 303,
   "metadata": {},
   "outputs": [],
   "source": [
    "def multinomial_naive_bayes(data, classes, new_point, alpha):\n",
    "    if (len(data) < len(classes)):\n",
    "        raise Exception('O número de grupos de dados é menor que o de classes!')\n",
    "        \n",
    "    if (len(classes) > len(data)):\n",
    "        raise Exception('O número de grupos de dados é maior que o de classes!')\n",
    "    \n",
    "    total_data = 0\n",
    "    \n",
    "    for i in range(len(data)):\n",
    "        try:\n",
    "            \n",
    "            \n",
    "            for f in range(0, len(data[i])):\n",
    "                total_data = total_data + 1\n",
    "            \n",
    "            \n",
    "        except:\n",
    "            raise Exception(\"Existe algum grupo de dados vazio!\")\n",
    "    \n",
    "    tipos = []\n",
    "    \n",
    "    for i in range(len(data)):\n",
    "        for k in range(len(data[i])):\n",
    "            diferente = 0\n",
    "            for j in tipos:\n",
    "                if (data[i][k] != j):\n",
    "                    diferente = diferente + 1\n",
    "                \n",
    "            if (diferente == len(tipos)):\n",
    "                tipos.append(data[i][k])\n",
    "    \n",
    "    if (alpha == 1):\n",
    "        for i in tipos:\n",
    "            for j in range(len(data)):\n",
    "                data[j].append(i)\n",
    "    \n",
    "    print(data)\n",
    "    probs = []\n",
    "    \n",
    "    \n",
    "    for i in range(len(classes)):\n",
    "        total_data_k = 0\n",
    "        for k in range(len(data[i])):\n",
    "            total_data_k = total_data_k + 1\n",
    "        prob = total_data_k / total_data\n",
    "        probs.append(prob)\n",
    "        \n",
    "    \n",
    "    \n",
    "    \n",
    "               \n",
    "    \n",
    "    \n",
    "    prob_type = []\n",
    "    probs_type = []\n",
    "    for i in tipos:\n",
    "        prob_type = []\n",
    "        for j in range(len(data)):\n",
    "            count = 0\n",
    "            for k in range(len(data[j])):\n",
    "                \n",
    "                if (data[j][k] == i):\n",
    "                    count = count + 1\n",
    "                    \n",
    "            prob_type.append(count / len(data[j]))\n",
    "            \n",
    "\n",
    "\n",
    "            \n",
    "            \n",
    "            \n",
    "            \n",
    "            \n",
    "            \n",
    "        probs_type.append(prob_type)\n",
    "\n",
    "        \n",
    "    scores = []\n",
    "    \n",
    "    for i in tipos:\n",
    "        scores.append(1)\n",
    "    \n",
    "    \n",
    "    for i in new_point:\n",
    "        for k in range(len(tipos)):\n",
    "           \n",
    "                \n",
    "               \n",
    "                \n",
    "                for j in range(len(probs_type)):\n",
    "                    score = 0\n",
    "                    \n",
    "                    if(i == tipos[j]):\n",
    "                        scores[k] = probs_type[j][k] * scores[k]\n",
    "                        \n",
    "                    \n",
    "                    \n",
    "                \n",
    "                \n",
    "    \n",
    "    \n",
    "    for i in range(len(scores)):\n",
    "        scores[i] = probs[i] * scores[i]\n",
    "        \n",
    "    maximo = scores[0]\n",
    "    resultado = classes[0]\n",
    "    \n",
    "    for i in range(len(scores)):\n",
    "        if (scores[i] > maximo):\n",
    "            maximo = scores[i]\n",
    "            resultado = classes[i]\n",
    "            \n",
    "    print(scores)\n",
    "    \n",
    "    return resultado\n",
    "            \n",
    "    \n",
    "        \n",
    "                \n",
    "    \n",
    "        \n",
    "    \n",
    "            \n",
    "            \n",
    "            \n",
    "    \n",
    "        "
   ]
  },
  {
   "cell_type": "code",
   "execution_count": 304,
   "metadata": {
    "scrolled": true
   },
   "outputs": [
    {
     "name": "stdout",
     "output_type": "stream",
     "text": [
      "[[1, 1, 2, 1, 2, 3], [2, 2, 1, 2, 3], [3, 1, 2, 3]]\n",
      "[0.013888888888888888, 0.004000000000000001, 0.005208333333333333]\n"
     ]
    },
    {
     "data": {
      "text/plain": [
       "'Banana'"
      ]
     },
     "execution_count": 304,
     "metadata": {},
     "output_type": "execute_result"
    }
   ],
   "source": [
    "multinomial_naive_bayes(data, classes, new_point, 1)"
   ]
  },
  {
   "cell_type": "code",
   "execution_count": null,
   "metadata": {},
   "outputs": [],
   "source": []
  },
  {
   "cell_type": "code",
   "execution_count": null,
   "metadata": {},
   "outputs": [],
   "source": []
  },
  {
   "cell_type": "code",
   "execution_count": null,
   "metadata": {},
   "outputs": [],
   "source": []
  }
 ],
 "metadata": {
  "kernelspec": {
   "display_name": "Python 3",
   "language": "python",
   "name": "python3"
  },
  "language_info": {
   "codemirror_mode": {
    "name": "ipython",
    "version": 3
   },
   "file_extension": ".py",
   "mimetype": "text/x-python",
   "name": "python",
   "nbconvert_exporter": "python",
   "pygments_lexer": "ipython3",
   "version": "3.7.6"
  }
 },
 "nbformat": 4,
 "nbformat_minor": 4
}
