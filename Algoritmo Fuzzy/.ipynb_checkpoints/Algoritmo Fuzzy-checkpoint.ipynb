{
 "cells": [
  {
   "cell_type": "code",
   "execution_count": 23,
   "metadata": {},
   "outputs": [
    {
     "name": "stdout",
     "output_type": "stream",
     "text": [
      "Digite a temperatura em graus Celsius 21\n"
     ]
    }
   ],
   "source": [
    "temperatura = int(input('Digite a temperatura em graus Celsius '))"
   ]
  },
  {
   "cell_type": "code",
   "execution_count": 24,
   "metadata": {},
   "outputs": [
    {
     "name": "stdout",
     "output_type": "stream",
     "text": [
      "Convertendo para as funções...\n",
      "[0.1, 0.9]\n"
     ]
    }
   ],
   "source": [
    "print('Convertendo para as funções...')\n",
    "\n",
    "\n",
    "def calor (temperatura):\n",
    "    quente = 'undefined'\n",
    "    \n",
    "    if (temperatura >= 30 and temperatura <= 90):\n",
    "        quente = 1\n",
    "        \n",
    "    elif (temperatura < 30 and temperatura > 20):\n",
    "        quente = abs((temperatura - 20) / 10)\n",
    "        \n",
    "    elif (temperatura >= 90 and temperatura <= 100):\n",
    "        quente = abs(((temperatura - 90) / 10) - 1)\n",
    "        \n",
    "    elif (temperatura > 100 or temperatura < 20):\n",
    "        quente = 0\n",
    "        \n",
    "    return quente\n",
    "    \n",
    "    \n",
    "def frio (temperatura):\n",
    "    frio = 'undefined'\n",
    "    \n",
    "    if (temperatura <= 30 and temperatura >= 20):\n",
    "        frio = abs((temperatura - 30) / 10)\n",
    "    \n",
    "    elif (temperatura < 20 and temperatura > 0):\n",
    "        frio = 1\n",
    "    \n",
    "    elif (temperatura < 0 and temperatura >= -10):\n",
    "        frio = abs((temperatura - 0) / 10)\n",
    "    \n",
    "    elif (temperatura < -10):\n",
    "        frio = 0\n",
    "    \n",
    "    return frio\n",
    "\n",
    "def appender (temperatura):\n",
    "    temps = []\n",
    "    temps.append(calor(temperatura))\n",
    "    temps.append(frio(temperatura))\n",
    "    return temps\n",
    "\n",
    "appendedor = appender(temperatura)\n",
    "print(appender(temperatura))\n",
    "\n",
    "# ____________________________________________________________________________#\n",
    "# Calculador de integrais para as equações #\n",
    "\n",
    "def integral_quente_1 (x, x2):\n",
    "    integreleiro1 = (pow(x, 2) / 20) - (2 * x2)\n",
    "    integreleiro2 = (pow(x2, 2) / 20) - (2 * x)\n",
    "    integreleiro = (integreleiro1 - integreleiro2)\n",
    "    return integreleiro\n",
    "\n",
    "def integral_quente_2(x, x2):\n",
    "    integreleiro1 = 500 - (1 / 20 * pow((x2 - 100), 2) * sng(x2, 100))\n",
    "    integreleiro2 = 500 - (1 / 20 * pow((x - 100), 2) * sng(x, 100))\n",
    "    integreleiro = (integreleiro1 - integreleiro2)\n",
    "    return integreleiro\n",
    "\n",
    "def integral_frio_1(x2, x):\n",
    "    integreleiro1 = 45 - (1/20 * pow((x - 30), 2)) * sng(x, 30)\n",
    "    integreleiro2 = 45 - (1/20 * pow((x2 - 30), 2)) * sng(x2, 30)\n",
    "    integreleiro = (integreleiro1 - integreleiro2)\n",
    "    return integreleiro\n",
    "\n",
    "def integral_frio_2(x2, x):\n",
    "    integreleiro1 = pow(x, 2) / 20\n",
    "    integreleiro2 = pow(x2, 2) / 20\n",
    "    integreleiro = (integreleiro1 - integreleiro2)\n",
    "    return integreleiro\n",
    "\n",
    "def sng(x, coeficiente):\n",
    "    variavel = coeficiente - x\n",
    "    if (variavel < 0):\n",
    "        return -1\n",
    "    else:\n",
    "        return 1\n"
   ]
  },
  {
   "cell_type": "code",
   "execution_count": 25,
   "metadata": {},
   "outputs": [
    {
     "name": "stdout",
     "output_type": "stream",
     "text": [
      "0.9500000000000028\n"
     ]
    }
   ],
   "source": [
    "def analise_quente (quente, temperatura):\n",
    "    riscol = 1\n",
    "    \n",
    "    if (quente > 0 and temperatura < 90 ):\n",
    "        riscol = integral_quente_1(20, quente)\n",
    "        \n",
    "    elif (quente > 0 and temperatura > 90 and temperatura < 100):\n",
    "        riscol = integral_quente_2(90, temperatura)\n",
    "        \n",
    "    elif (quente > 30 and quente < 90):\n",
    "         riscol = integral_quente_1(20, 30)\n",
    "        \n",
    "    return riscol\n",
    "\n",
    "\n",
    "\n",
    "def analise_frio (frio, riscol, temperatura):\n",
    "    if (frio > 0 and temperatura > 20):\n",
    "        riscol = integral_frio_1(20, temperatura)\n",
    "        \n",
    "    elif (frio > 0 and temperatura < 10):\n",
    "        riscol = integral_frio_2(0, temperatura)\n",
    "    \n",
    "    elif (frio == 1):\n",
    "        riscol = integral_frio_1(20, 30)\n",
    "        \n",
    "    return riscol\n",
    "\n",
    "\n",
    "def analista (appender, temperatura):\n",
    "    risco = 1\n",
    "\n",
    "    risco = analise_quente(appender[0], temperatura)\n",
    "    risco = analise_frio(appender[1], risco, temperatura)\n",
    "    \n",
    "    return risco\n",
    "\n",
    "\n",
    "    \n",
    "        \n",
    "        \n",
    "        \n",
    "        \n",
    "        \n",
    "        \n",
    "analista(appendedor, temperatura)\n",
    "print(analista(appendedor, temperatura))\n",
    "        \n",
    "        "
   ]
  },
  {
   "cell_type": "code",
   "execution_count": 19,
   "metadata": {},
   "outputs": [
    {
     "name": "stdout",
     "output_type": "stream",
     "text": [
      "5.0\n",
      "5.0\n"
     ]
    }
   ],
   "source": [
    "def integral_frio_1(x2, x):\n",
    "    integreleiro1 = 45 - (1/20 * pow((x - 30), 2)) * sng(x, 30)\n",
    "    integreleiro2 = 45 - (1/20 * pow((x2 - 30), 2)) * sng(x2, 30)\n",
    "    integreleiro = (integreleiro1 - integreleiro2)\n",
    "    return integreleiro\n",
    "\n",
    "def integral_frio_2(x2, x):\n",
    "    integreleiro1 = pow(x, 2) / 20\n",
    "    integreleiro2 = pow(x2, 2) / 20\n",
    "    integreleiro = (integreleiro1 - integreleiro2)\n",
    "    return integreleiro\n",
    "\n",
    "\n",
    "\n",
    "print(integral_frio_1(20, 30))\n",
    "print(integral_frio_2(0, 10))\n",
    "    \n",
    "\n"
   ]
  },
  {
   "cell_type": "code",
   "execution_count": null,
   "metadata": {},
   "outputs": [],
   "source": []
  },
  {
   "cell_type": "code",
   "execution_count": null,
   "metadata": {},
   "outputs": [],
   "source": []
  }
 ],
 "metadata": {
  "kernelspec": {
   "display_name": "Python 3",
   "language": "python",
   "name": "python3"
  },
  "language_info": {
   "codemirror_mode": {
    "name": "ipython",
    "version": 3
   },
   "file_extension": ".py",
   "mimetype": "text/x-python",
   "name": "python",
   "nbconvert_exporter": "python",
   "pygments_lexer": "ipython3",
   "version": "3.7.6"
  }
 },
 "nbformat": 4,
 "nbformat_minor": 4
}
